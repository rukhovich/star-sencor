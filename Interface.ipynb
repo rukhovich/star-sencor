{
 "cells": [
  {
   "cell_type": "code",
   "execution_count": 3,
   "metadata": {
    "collapsed": true
   },
   "outputs": [],
   "source": [
    "import serial\n",
    "import usb\n",
    "import can\n",
    "import crc8\n",
    "import numpy as np"
   ]
  },
  {
   "cell_type": "code",
   "execution_count": 22,
   "metadata": {},
   "outputs": [
    {
     "ename": "IndentationError",
     "evalue": "expected an indented block (<ipython-input-22-23ddb04dea3e>, line 23)",
     "output_type": "error",
     "traceback": [
      "\u001b[0;36m  File \u001b[0;32m\"<ipython-input-22-23ddb04dea3e>\"\u001b[0;36m, line \u001b[0;32m23\u001b[0m\n\u001b[0;31m    def recieve(self, session):\u001b[0m\n\u001b[0m      ^\u001b[0m\n\u001b[0;31mIndentationError\u001b[0m\u001b[0;31m:\u001b[0m expected an indented block\n"
     ]
    }
   ],
   "source": [
    "class Can:\n",
    "    adress = 0x6\n",
    "    command_lengths = {\n",
    "        0x00:0,\n",
    "        0x01:0,\n",
    "        0x02:0,\n",
    "        0x03:8,\n",
    "        0x05:2,     #flags\n",
    "        0x06:6,\n",
    "        0x07:12,\n",
    "        0x0D:0,\n",
    "        0x10:0,\n",
    "        0x12:0,\n",
    "        0x14:0,\n",
    "        0x15:0,\n",
    "        0x30:0,\n",
    "        0x31:0,\n",
    "        0x33:0,\n",
    "        0x34:0,\n",
    "        0x35:0,\n",
    "        \n",
    "    }\n",
    "    \n",
    "    def __init__(self):\n",
    "        self.recieved = []\n",
    "        self.sent = []\n",
    "    \n",
    "    def generate_msg(self):\n",
    "        return [adress]\n",
    "    \n",
    "    def send(self, msg, session, status=\"OK\"):\n",
    "        \n",
    "        #msg = self.generate_msg()\n",
    "        \n",
    "        #session.send(msg)\n",
    "        \n",
    "        #self.sent.append(msg)\n",
    "        \n",
    "        pass\n",
    "    \n",
    "    def get_message(self, session):\n",
    "    \n",
    "        #let msg is a string like \"100101001010100101011010101010101010101010101\"\n",
    "        msg = self.recieve(session)\n",
    "        \n",
    "        #we need to read only last\n",
    "        \n",
    "        \n",
    "        adress = msg[20:40]\n",
    "        \n",
    "        command = int(msg[20:28], base=2)\n",
    "        counter = int(msg[28:32], base=2)\n",
    "        \n",
    "        while counter:\n",
    "            counter -= 1\n",
    "            self.receive(session)\n",
    "            \n",
    "    def recieve(self, session):\n",
    "        #TODO\n",
    "        #test\n",
    "        msg = \"\"\n",
    "        \n",
    "        while True:\n",
    "            #TODO\n",
    "            break\n",
    "            \n",
    "        self.recieved.append(msg)\n",
    "        \n",
    "        return msg\n",
    "        "
   ]
  },
  {
   "cell_type": "code",
   "execution_count": null,
   "metadata": {},
   "outputs": [],
   "source": []
  },
  {
   "cell_type": "code",
   "execution_count": null,
   "metadata": {
    "collapsed": true
   },
   "outputs": [],
   "source": []
  },
  {
   "cell_type": "code",
   "execution_count": 5,
   "metadata": {},
   "outputs": [
    {
     "data": {
      "text/plain": [
       "'\\nunsigned char Crc8(unsigned char *pcBlock, unsigned int len)\\n{\\n    unsigned char crc = 0xFF;\\n    unsigned int i;\\n\\n    while (len--)\\n    {\\n        crc ^= *pcBlock++;\\n\\n        for (i = 0; i < 8; i++)\\n            crc = crc & 0x80 ? (crc << 1) ^ 0x31 : crc << 1;\\n    }\\n\\n    return crc;\\n}\\n'"
      ]
     },
     "execution_count": 5,
     "metadata": {},
     "output_type": "execute_result"
    }
   ],
   "source": [
    "'''\n",
    "unsigned char Crc8(unsigned char *pcBlock, unsigned int len)\n",
    "{\n",
    "    unsigned char crc = 0xFF;\n",
    "    unsigned int i;\n",
    "\n",
    "    while (len--)\n",
    "    {\n",
    "        crc ^= *pcBlock++;\n",
    "\n",
    "        for (i = 0; i < 8; i++)\n",
    "            crc = crc & 0x80 ? (crc << 1) ^ 0x31 : crc << 1;\n",
    "    }\n",
    "\n",
    "    return crc;\n",
    "}\n",
    "'''\n"
   ]
  },
  {
   "cell_type": "code",
   "execution_count": 6,
   "metadata": {},
   "outputs": [
    {
     "data": {
      "text/plain": [
       "49"
      ]
     },
     "execution_count": 6,
     "metadata": {},
     "output_type": "execute_result"
    }
   ],
   "source": [
    "ord(\"1\")"
   ]
  },
  {
   "cell_type": "code",
   "execution_count": 7,
   "metadata": {},
   "outputs": [
    {
     "data": {
      "text/plain": [
       "'0xf7'"
      ]
     },
     "execution_count": 7,
     "metadata": {},
     "output_type": "execute_result"
    }
   ],
   "source": [
    "def gen_crc_8(s):\n",
    "    crc = 0xFF\n",
    "    for i in s:\n",
    "        \n",
    "        if isinstance(i, str):\n",
    "            i = ord(i)\n",
    "        crc ^= i\n",
    "        \n",
    "        for i in range(8):\n",
    "            crc = (crc << 1)%256 ^ 0x31 if crc & 0x80 else (crc << 1)%256\n",
    "        \n",
    "    return crc\n",
    "    \n",
    "hex(gen_crc_8(\"123456789\"))"
   ]
  },
  {
   "cell_type": "code",
   "execution_count": 8,
   "metadata": {},
   "outputs": [
    {
     "data": {
      "text/plain": [
       "'0x29b1'"
      ]
     },
     "execution_count": 8,
     "metadata": {},
     "output_type": "execute_result"
    }
   ],
   "source": [
    "def gen_crc_16(s):\n",
    "    crc = 0xFFFF\n",
    "    for i in s:\n",
    "        \n",
    "        if isinstance(i, str):\n",
    "            i = ord(i) << 8\n",
    "        crc ^= i\n",
    "        \n",
    "        for i in range(8):\n",
    "            crc = (crc << 1)%65536 ^ 0x1021 if crc & 0x8000 else (crc << 1)%65536\n",
    "        \n",
    "    return crc\n",
    "    \n",
    "hex(gen_crc_16(\"123456789\"))"
   ]
  },
  {
   "cell_type": "code",
   "execution_count": 9,
   "metadata": {},
   "outputs": [
    {
     "data": {
      "text/plain": [
       "'0x8000'"
      ]
     },
     "execution_count": 9,
     "metadata": {},
     "output_type": "execute_result"
    }
   ],
   "source": [
    "hex(2**15)"
   ]
  },
  {
   "cell_type": "code",
   "execution_count": 10,
   "metadata": {
    "collapsed": true
   },
   "outputs": [],
   "source": [
    "#все по отдельности храниться как integer\n",
    "class RS:\n",
    "    commands = {\n",
    "        \"restart\":           0x01,\n",
    "        \"toDefaultSettings\": 0x02,\n",
    "        \"setDateAndTime\":    0x03,\n",
    "    }\n",
    "    \n",
    "    command_lengths = {\n",
    "        0x00:0,\n",
    "        0x01:0,\n",
    "        0x02:0,\n",
    "        0x03:8,\n",
    "        0x05:2,     #flags\n",
    "        0x06:6,\n",
    "        0x07:12,\n",
    "        0x0D:0,\n",
    "        0x10:0,\n",
    "        0x12:0,\n",
    "        0x14:0,\n",
    "        0x15:0,\n",
    "        0x30:0,\n",
    "        0x31:0,\n",
    "        0x33:0,\n",
    "        0x34:0,\n",
    "        0x35:0,\n",
    "        \n",
    "    }\n",
    "    \n",
    "    errors = {\n",
    "        0x00:\"E_OK\",\n",
    "        0x0D:\"E_WRONG_MEMORY_MAJ\",\n",
    "        0x0F:\"E_CMOS_ACQ_IMPOS\",\n",
    "        0x17:\"E_SUCCES\",\n",
    "        0x18:\"E_FAILURE\",\n",
    "        #calculation errors\n",
    "        0xB0:\"ESV_OVERFLOW\",\n",
    "        0xB1:\"ESV_DIV_BY_ZERO\",\n",
    "        0xB3:\"ESV_INDETERNINATE\",\n",
    "        0xB4:\"ESV_OUT_OF_RANGE\",\n",
    "        0xB6:\"ESV_INVALID_ARGS\",\n",
    "        0xB7:\"ESV_WR_INVALID_DATA\",\n",
    "        0xB8:\"ESV_OUT_OF_DATA\",\n",
    "        #sending/recieveing proplems\n",
    "        0xF0:\"UE_OK\",\n",
    "        0xF1:\"UE_WR_CRC\",\n",
    "        0xF2:\"UE_WR_PLEN\",\n",
    "        0xF3:\"UE_WR_CMD\",\n",
    "        0xF4:\"UE_FROB_CMD\",\n",
    "        0xF5:\"UE_WR_DLEN\",\n",
    "        0xF6:\"UE_WR_ADDR\",\n",
    "        0xF7:\"UE_CMD_CONFL\",\n",
    "        0xF8:\"UE_WR_REG_NUM\",\n",
    "        0xF9:\"UE_CMD_UNRLSD\",\n",
    "        0xFA:\"UE_URGENT_ANS\",\n",
    "        0xFB:\"UE_WR_PKG_NUM\",\n",
    "        0xFC:\"UE_UNALIGNED_DATA\"\n",
    "        \n",
    "        \n",
    "        \n",
    "    }\n",
    "    \n",
    "    adress = int(\"A0\", base=16)\n",
    "        \n",
    "    def __init__(self):\n",
    "        sent_msgs = []\n",
    "        recived_msgs = []\n",
    "        \n",
    "        \n",
    "    def generate_msg(self, command, data=None, base=None):\n",
    "        \n",
    "        \"\"\" (int(or str), int(or str or None), int(or None)) -> str\"\"\"\n",
    "        \n",
    "        adress = self.adress\n",
    "        \n",
    "        if isinstance(data, str) and base != None:\n",
    "            int(data, base=base)\n",
    "            \n",
    "        if isinstance(command, str):\n",
    "            command = self.commands[command]\n",
    "            \n",
    "        if data:\n",
    "            data_length = self.get_length(data)\n",
    "        else:\n",
    "            data_length = 0\n",
    "        \n",
    "        data_bytes = self.get_bytes(data)\n",
    "            \n",
    "        crc = self.generate_crc8([adress, command, data_length] + data_bytes)\n",
    "        \n",
    "        msg = [adress, command, data_length] + data_bytes + [crc]\n",
    "            \n",
    "        return msg\n",
    "        \n",
    "    def get_bytes(self, data):\n",
    "        data_bytes = []\n",
    "        while data:\n",
    "            data_bytes.append(data%256)\n",
    "            data //= 256\n",
    "        \n",
    "        return data_bytes[::-1]\n",
    "        \n",
    "        \n",
    "    def get_length(self, data):\n",
    "        \n",
    "        \"\"\" int -> int. Return number of whole bytes (not bits)\"\"\"\n",
    "        \n",
    "        return (len(bin(data)) - 2 + 7) // 8\n",
    "        \n",
    "        \n",
    "    \n",
    "    def generate_crc8(self, data):\n",
    "        crc = 0xFF\n",
    "        for i in data:\n",
    "\n",
    "            if isinstance(i, str):\n",
    "                i = ord(i)\n",
    "                \n",
    "            crc ^= i\n",
    "\n",
    "            for i in range(8):\n",
    "                crc = (crc << 1)%256 ^ 0x31 if crc & 0x80 else (crc << 1)%256\n",
    "\n",
    "        return crc\n",
    "    \n",
    "    \n",
    "    def generate_crc16(s):\n",
    "        crc = 0xFFFF\n",
    "        for i in s:\n",
    "\n",
    "            if isinstance(i, str):\n",
    "                i = ord(i) << 8\n",
    "            crc ^= i\n",
    "\n",
    "            for i in range(8):\n",
    "                crc = (crc << 1)%65536 ^ 0x1021 if crc & 0x8000 else (crc << 1)%65536\n",
    "\n",
    "        return crc    \n",
    "    \n",
    "    def check_crc_8(self, data, crc):\n",
    "        return self.generate_crc8(data) == crc\n",
    "    \n",
    "    def send(self, msg, ser=None):\n",
    "        #ser.send(\"test\")\n",
    "        if not ser:\n",
    "            print msg\n",
    "            return\n",
    "        else:\n",
    "            ser.send(bytearray(msg))\n",
    "            self.sent_msgs.append(msg)\n",
    "    \n",
    "    def receive(self, ser):\n",
    "        status = \"OK\"\n",
    "        \n",
    "        array = ser.read(3)\n",
    "        if array[2] < 0xF0:\n",
    "            array += ser.read(array[2] + 1)\n",
    "            \n",
    "        else:\n",
    "            array += ser.read(1)\n",
    "        #array += ser.read(array[2].encode(\"hex\"))\n",
    "        \n",
    "        adress  = array[0]\n",
    "        command = array[1]\n",
    "        length  = array[2]\n",
    "        data    = array[3:-1]\n",
    "        crc     = array[3:]\n",
    "        \n",
    "        msg = [adress, command, length] + data + [crc]\n",
    "        \n",
    "        if not self.check(msg[:-1], crc):\n",
    "            print \"CRC is not the same, error in a message\"\n",
    "            status = \"CRC problem\"\n",
    "        #it this case \"length\" is an error\n",
    "        if length > 0xF0:\n",
    "            print length, self.errors[length]\n",
    "            status = \"Error\"\n",
    "        \n",
    "        self.recived_msgs.append(msg)\n",
    "        \n",
    "        \n",
    "        return msg, status\n"
   ]
  },
  {
   "cell_type": "code",
   "execution_count": 11,
   "metadata": {
    "collapsed": true
   },
   "outputs": [],
   "source": [
    "rs = RS()\n",
    "\n",
    "ans = rs.generate_msg(\"restart\")\n",
    "assert [hex(x)[2:].upper() for x in ans] == ['A0', '1', '0', '13']\n",
    "\n",
    "ans = rs.generate_msg(\"setDateAndTime\", data=0x7A3EC5023E01E207)\n",
    "assert [hex(x)[2:].upper() for x in ans] == ['A0', '3', '8', '7A', '3E', 'C5', '2', '3E', '1', 'E2', '7', '1C']"
   ]
  },
  {
   "cell_type": "code",
   "execution_count": 12,
   "metadata": {},
   "outputs": [
    {
     "data": {
      "text/plain": [
       "'00000000000000000000'"
      ]
     },
     "execution_count": 12,
     "metadata": {},
     "output_type": "execute_result"
    }
   ],
   "source": [
    "#20 bits\n",
    "\"0\"*20"
   ]
  },
  {
   "cell_type": "code",
   "execution_count": null,
   "metadata": {
    "collapsed": true
   },
   "outputs": [],
   "source": []
  },
  {
   "cell_type": "code",
   "execution_count": 13,
   "metadata": {},
   "outputs": [
    {
     "data": {
      "text/plain": [
       "\"\\nwith serial.Serial('/dev/ttyS1', 19200, timeout=1) as ser:\\n    x = ser.read()          # read one byte\\n    s = ser.read(10)        # read up to ten bytes (timeout)\\n    line = ser.readline()   # read a '\\n' terminated line\\n\""
      ]
     },
     "execution_count": 13,
     "metadata": {},
     "output_type": "execute_result"
    }
   ],
   "source": [
    "\"\"\"\n",
    "with serial.Serial('/dev/ttyS1', 19200, timeout=1) as ser:\n",
    "    x = ser.read()          # read one byte\n",
    "    s = ser.read(10)        # read up to ten bytes (timeout)\n",
    "    line = ser.readline()   # read a '\\n' terminated line\n",
    "\"\"\""
   ]
  },
  {
   "cell_type": "code",
   "execution_count": 14,
   "metadata": {},
   "outputs": [
    {
     "data": {
      "text/plain": [
       "'\\n\\n\\xd1\\x81\\xd0\\xba\\xd0\\xbe\\xd1\\x80\\xd0\\xbe\\xd1\\x81\\xd1\\x82\\xd1\\x8c \\xd0\\xbf\\xd0\\xb5\\xd1\\x80\\xd0\\xb5\\xd0\\xb4\\xd0\\xb0\\xd1\\x87\\xd0\\xb8 115200 \\xd0\\xb1\\xd0\\xbe\\xd0\\xb4;\\n\\xd0\\xba\\xd0\\xbe\\xd0\\xbb\\xd0\\xb8\\xd1\\x87\\xd0\\xb5\\xd1\\x81\\xd1\\x82\\xd0\\xb2\\xd0\\xbe \\xd0\\xb1\\xd0\\xb8\\xd1\\x82 \\xd0\\xb4\\xd0\\xb0\\xd0\\xbd\\xd0\\xbd\\xd1\\x8b\\xd1\\x85 8;\\n\\xd0\\xba\\xd0\\xbe\\xd0\\xbb\\xd0\\xb8\\xd1\\x87\\xd0\\xb5\\xd1\\x81\\xd1\\x82\\xd0\\xb2\\xd0\\xbe \\xd1\\x81\\xd1\\x82\\xd0\\xbe\\xd0\\xbf\\xd0\\xbe\\xd0\\xb2\\xd1\\x8b\\xd1\\x85 \\xd0\\xb1\\xd0\\xb8\\xd1\\x82 1;\\n\\xd0\\xb1\\xd0\\xb8\\xd1\\x82 \\xd1\\x87\\xd0\\xb5\\xd1\\x82\\xd0\\xbd\\xd0\\xbe\\xd1\\x81\\xd1\\x82\\xd0\\xb8\\xc2\\xa0\\xe2\\x80\\x93 \\xd1\\x87\\xd0\\xb5\\xd1\\x82\\xd0\\xbd\\xd1\\x8b\\xd0\\xb9.\\n\\n'"
      ]
     },
     "execution_count": 14,
     "metadata": {},
     "output_type": "execute_result"
    }
   ],
   "source": [
    "#for serial\n",
    "\"\"\"\n",
    "\n",
    "скорость передачи 115200 бод;\n",
    "количество бит данных 8;\n",
    "количество стоповых бит 1;\n",
    "бит четности – четный.\n",
    "\n",
    "\"\"\""
   ]
  },
  {
   "cell_type": "code",
   "execution_count": null,
   "metadata": {
    "collapsed": true
   },
   "outputs": [],
   "source": []
  },
  {
   "cell_type": "code",
   "execution_count": 90,
   "metadata": {
    "collapsed": true
   },
   "outputs": [],
   "source": []
  },
  {
   "cell_type": "code",
   "execution_count": 15,
   "metadata": {},
   "outputs": [
    {
     "data": {
      "text/plain": [
       "['A0', '1', '0', '13']"
      ]
     },
     "execution_count": 15,
     "metadata": {},
     "output_type": "execute_result"
    }
   ],
   "source": [
    "ans = rs.generate_msg(\"restart\")\n",
    "[hex(x)[2:].upper() for x in ans]"
   ]
  },
  {
   "cell_type": "code",
   "execution_count": 16,
   "metadata": {},
   "outputs": [
    {
     "data": {
      "text/plain": [
       "[2050934018, 15873, 57863]"
      ]
     },
     "execution_count": 16,
     "metadata": {},
     "output_type": "execute_result"
    }
   ],
   "source": [
    "date = [0x7A3EC502, 0x3E01, 0xE207]\n",
    "date"
   ]
  },
  {
   "cell_type": "code",
   "execution_count": 17,
   "metadata": {},
   "outputs": [
    {
     "data": {
      "text/plain": [
       "['A0', '3', '8', '7A', '3E', 'C5', '2', '3E', '1', 'E2', '7', '1C']"
      ]
     },
     "execution_count": 17,
     "metadata": {},
     "output_type": "execute_result"
    }
   ],
   "source": [
    "ans = rs.generate_msg(\"setDateAndTime\", data=0x7A3EC5023E01E207)\n",
    "[hex(x)[2:].upper() for x in ans]"
   ]
  },
  {
   "cell_type": "code",
   "execution_count": 35,
   "metadata": {},
   "outputs": [
    {
     "ename": "OSError",
     "evalue": "libpcanbasic.so: cannot open shared object file: No such file or directory",
     "output_type": "error",
     "traceback": [
      "\u001b[0;31m---------------------------------------------------------------------------\u001b[0m",
      "\u001b[0;31mOSError\u001b[0m                                   Traceback (most recent call last)",
      "\u001b[0;32m<ipython-input-35-9e6798c51cad>\u001b[0m in \u001b[0;36m<module>\u001b[0;34m()\u001b[0m\n\u001b[1;32m     19\u001b[0m \u001b[0;34m\u001b[0m\u001b[0m\n\u001b[1;32m     20\u001b[0m \u001b[0;32mif\u001b[0m \u001b[0m__name__\u001b[0m \u001b[0;34m==\u001b[0m \u001b[0;34m\"__main__\"\u001b[0m\u001b[0;34m:\u001b[0m\u001b[0;34m\u001b[0m\u001b[0m\n\u001b[0;32m---> 21\u001b[0;31m     \u001b[0msend_one\u001b[0m\u001b[0;34m(\u001b[0m\u001b[0;34m)\u001b[0m\u001b[0;34m\u001b[0m\u001b[0m\n\u001b[0m",
      "\u001b[0;32m<ipython-input-35-9e6798c51cad>\u001b[0m in \u001b[0;36msend_one\u001b[0;34m()\u001b[0m\n\u001b[1;32m      5\u001b[0m \u001b[0;34m\u001b[0m\u001b[0m\n\u001b[1;32m      6\u001b[0m \u001b[0;32mdef\u001b[0m \u001b[0msend_one\u001b[0m\u001b[0;34m(\u001b[0m\u001b[0;34m)\u001b[0m\u001b[0;34m:\u001b[0m\u001b[0;34m\u001b[0m\u001b[0m\n\u001b[0;32m----> 7\u001b[0;31m     \u001b[0mbus\u001b[0m \u001b[0;34m=\u001b[0m \u001b[0mcan\u001b[0m\u001b[0;34m.\u001b[0m\u001b[0minterface\u001b[0m\u001b[0;34m.\u001b[0m\u001b[0mBus\u001b[0m\u001b[0;34m(\u001b[0m\u001b[0mbustype\u001b[0m\u001b[0;34m=\u001b[0m\u001b[0;34m'pcan'\u001b[0m\u001b[0;34m,\u001b[0m \u001b[0mchannel\u001b[0m\u001b[0;34m=\u001b[0m\u001b[0;34m'PCAN_USBBUS1'\u001b[0m\u001b[0;34m,\u001b[0m \u001b[0mbitrate\u001b[0m\u001b[0;34m=\u001b[0m\u001b[0;36m250000\u001b[0m\u001b[0;34m)\u001b[0m\u001b[0;34m\u001b[0m\u001b[0m\n\u001b[0m\u001b[1;32m      8\u001b[0m     \u001b[0;31m#bus = can.interface.Bus(bustype='ixxat', channel=0, bitrate=250000)\u001b[0m\u001b[0;34m\u001b[0m\u001b[0;34m\u001b[0m\u001b[0m\n\u001b[1;32m      9\u001b[0m     \u001b[0;31m#bus = can.interface.Bus(bustype='vector', app_name='CANalyzer', channel=0, bitrate=250000)\u001b[0m\u001b[0;34m\u001b[0m\u001b[0;34m\u001b[0m\u001b[0m\n",
      "\u001b[0;32m/usr/local/lib/python2.7/dist-packages/can/interface.pyc\u001b[0m in \u001b[0;36m__new__\u001b[0;34m(cls, channel, *args, **config)\u001b[0m\n\u001b[1;32m    126\u001b[0m             \u001b[0;32mreturn\u001b[0m \u001b[0mcls\u001b[0m\u001b[0;34m(\u001b[0m\u001b[0;34m*\u001b[0m\u001b[0margs\u001b[0m\u001b[0;34m,\u001b[0m \u001b[0;34m**\u001b[0m\u001b[0mconfig\u001b[0m\u001b[0;34m)\u001b[0m\u001b[0;34m\u001b[0m\u001b[0m\n\u001b[1;32m    127\u001b[0m         \u001b[0;32melse\u001b[0m\u001b[0;34m:\u001b[0m\u001b[0;34m\u001b[0m\u001b[0m\n\u001b[0;32m--> 128\u001b[0;31m             \u001b[0;32mreturn\u001b[0m \u001b[0mcls\u001b[0m\u001b[0;34m(\u001b[0m\u001b[0mchannel\u001b[0m\u001b[0;34m,\u001b[0m \u001b[0;34m*\u001b[0m\u001b[0margs\u001b[0m\u001b[0;34m,\u001b[0m \u001b[0;34m**\u001b[0m\u001b[0mconfig\u001b[0m\u001b[0;34m)\u001b[0m\u001b[0;34m\u001b[0m\u001b[0m\n\u001b[0m\u001b[1;32m    129\u001b[0m \u001b[0;34m\u001b[0m\u001b[0m\n\u001b[1;32m    130\u001b[0m \u001b[0;34m\u001b[0m\u001b[0m\n",
      "\u001b[0;32m/usr/local/lib/python2.7/dist-packages/can/interfaces/pcan/pcan.pyc\u001b[0m in \u001b[0;36m__init__\u001b[0;34m(self, channel, state, bitrate, *args, **kwargs)\u001b[0m\n\u001b[1;32m     95\u001b[0m         \u001b[0minterrupt\u001b[0m \u001b[0;34m=\u001b[0m \u001b[0;36m11\u001b[0m\u001b[0;34m\u001b[0m\u001b[0m\n\u001b[1;32m     96\u001b[0m \u001b[0;34m\u001b[0m\u001b[0m\n\u001b[0;32m---> 97\u001b[0;31m         \u001b[0mself\u001b[0m\u001b[0;34m.\u001b[0m\u001b[0mm_objPCANBasic\u001b[0m \u001b[0;34m=\u001b[0m \u001b[0mPCANBasic\u001b[0m\u001b[0;34m(\u001b[0m\u001b[0;34m)\u001b[0m\u001b[0;34m\u001b[0m\u001b[0m\n\u001b[0m\u001b[1;32m     98\u001b[0m         \u001b[0mself\u001b[0m\u001b[0;34m.\u001b[0m\u001b[0mm_PcanHandle\u001b[0m \u001b[0;34m=\u001b[0m \u001b[0mglobals\u001b[0m\u001b[0;34m(\u001b[0m\u001b[0;34m)\u001b[0m\u001b[0;34m[\u001b[0m\u001b[0mchannel\u001b[0m\u001b[0;34m]\u001b[0m\u001b[0;34m\u001b[0m\u001b[0m\n\u001b[1;32m     99\u001b[0m \u001b[0;34m\u001b[0m\u001b[0m\n",
      "\u001b[0;32m/usr/local/lib/python2.7/dist-packages/can/interfaces/pcan/basic.pyc\u001b[0m in \u001b[0;36m__init__\u001b[0;34m(self)\u001b[0m\n\u001b[1;32m    332\u001b[0m             \u001b[0mself\u001b[0m\u001b[0;34m.\u001b[0m\u001b[0m__m_dllBasic\u001b[0m \u001b[0;34m=\u001b[0m \u001b[0mcdll\u001b[0m\u001b[0;34m.\u001b[0m\u001b[0mLoadLibrary\u001b[0m\u001b[0;34m(\u001b[0m\u001b[0;34m'libPCBUSB.dylib'\u001b[0m\u001b[0;34m)\u001b[0m\u001b[0;34m\u001b[0m\u001b[0m\n\u001b[1;32m    333\u001b[0m         \u001b[0;32melse\u001b[0m\u001b[0;34m:\u001b[0m\u001b[0;34m\u001b[0m\u001b[0m\n\u001b[0;32m--> 334\u001b[0;31m             \u001b[0mself\u001b[0m\u001b[0;34m.\u001b[0m\u001b[0m__m_dllBasic\u001b[0m \u001b[0;34m=\u001b[0m \u001b[0mcdll\u001b[0m\u001b[0;34m.\u001b[0m\u001b[0mLoadLibrary\u001b[0m\u001b[0;34m(\u001b[0m\u001b[0;34m\"libpcanbasic.so\"\u001b[0m\u001b[0;34m)\u001b[0m\u001b[0;34m\u001b[0m\u001b[0m\n\u001b[0m\u001b[1;32m    335\u001b[0m         \u001b[0;32mif\u001b[0m \u001b[0mself\u001b[0m\u001b[0;34m.\u001b[0m\u001b[0m__m_dllBasic\u001b[0m \u001b[0;34m==\u001b[0m \u001b[0mNone\u001b[0m\u001b[0;34m:\u001b[0m\u001b[0;34m\u001b[0m\u001b[0m\n\u001b[1;32m    336\u001b[0m             \u001b[0mlogger\u001b[0m\u001b[0;34m.\u001b[0m\u001b[0merror\u001b[0m\u001b[0;34m(\u001b[0m\u001b[0;34m\"Exception: The PCAN-Basic DLL couldn't be loaded!\"\u001b[0m\u001b[0;34m)\u001b[0m\u001b[0;34m\u001b[0m\u001b[0m\n",
      "\u001b[0;32m/usr/lib/python2.7/ctypes/__init__.pyc\u001b[0m in \u001b[0;36mLoadLibrary\u001b[0;34m(self, name)\u001b[0m\n\u001b[1;32m    438\u001b[0m \u001b[0;34m\u001b[0m\u001b[0m\n\u001b[1;32m    439\u001b[0m     \u001b[0;32mdef\u001b[0m \u001b[0mLoadLibrary\u001b[0m\u001b[0;34m(\u001b[0m\u001b[0mself\u001b[0m\u001b[0;34m,\u001b[0m \u001b[0mname\u001b[0m\u001b[0;34m)\u001b[0m\u001b[0;34m:\u001b[0m\u001b[0;34m\u001b[0m\u001b[0m\n\u001b[0;32m--> 440\u001b[0;31m         \u001b[0;32mreturn\u001b[0m \u001b[0mself\u001b[0m\u001b[0;34m.\u001b[0m\u001b[0m_dlltype\u001b[0m\u001b[0;34m(\u001b[0m\u001b[0mname\u001b[0m\u001b[0;34m)\u001b[0m\u001b[0;34m\u001b[0m\u001b[0m\n\u001b[0m\u001b[1;32m    441\u001b[0m \u001b[0;34m\u001b[0m\u001b[0m\n\u001b[1;32m    442\u001b[0m \u001b[0mcdll\u001b[0m \u001b[0;34m=\u001b[0m \u001b[0mLibraryLoader\u001b[0m\u001b[0;34m(\u001b[0m\u001b[0mCDLL\u001b[0m\u001b[0;34m)\u001b[0m\u001b[0;34m\u001b[0m\u001b[0m\n",
      "\u001b[0;32m/usr/lib/python2.7/ctypes/__init__.pyc\u001b[0m in \u001b[0;36m__init__\u001b[0;34m(self, name, mode, handle, use_errno, use_last_error)\u001b[0m\n\u001b[1;32m    360\u001b[0m \u001b[0;34m\u001b[0m\u001b[0m\n\u001b[1;32m    361\u001b[0m         \u001b[0;32mif\u001b[0m \u001b[0mhandle\u001b[0m \u001b[0;32mis\u001b[0m \u001b[0mNone\u001b[0m\u001b[0;34m:\u001b[0m\u001b[0;34m\u001b[0m\u001b[0m\n\u001b[0;32m--> 362\u001b[0;31m             \u001b[0mself\u001b[0m\u001b[0;34m.\u001b[0m\u001b[0m_handle\u001b[0m \u001b[0;34m=\u001b[0m \u001b[0m_dlopen\u001b[0m\u001b[0;34m(\u001b[0m\u001b[0mself\u001b[0m\u001b[0;34m.\u001b[0m\u001b[0m_name\u001b[0m\u001b[0;34m,\u001b[0m \u001b[0mmode\u001b[0m\u001b[0;34m)\u001b[0m\u001b[0;34m\u001b[0m\u001b[0m\n\u001b[0m\u001b[1;32m    363\u001b[0m         \u001b[0;32melse\u001b[0m\u001b[0;34m:\u001b[0m\u001b[0;34m\u001b[0m\u001b[0m\n\u001b[1;32m    364\u001b[0m             \u001b[0mself\u001b[0m\u001b[0;34m.\u001b[0m\u001b[0m_handle\u001b[0m \u001b[0;34m=\u001b[0m \u001b[0mhandle\u001b[0m\u001b[0;34m\u001b[0m\u001b[0m\n",
      "\u001b[0;31mOSError\u001b[0m: libpcanbasic.so: cannot open shared object file: No such file or directory"
     ]
    }
   ],
   "source": [
    "#can example\n",
    "from __future__ import print_function\n",
    "import can\n",
    "\n",
    "\n",
    "def send_one():\n",
    "    bus = can.interface.Bus(bustype='pcan', channel='PCAN_USBBUS1', bitrate=250000)\n",
    "    #bus = can.interface.Bus(bustype='ixxat', channel=0, bitrate=250000)\n",
    "    #bus = can.interface.Bus(bustype='vector', app_name='CANalyzer', channel=0, bitrate=250000)\n",
    "\n",
    "    msg = can.Message(arbitration_id=0xc0ffee,\n",
    "                      data=[0, 25, 0, 1, 3, 1, 4, 1],\n",
    "                      extended_id=True)\n",
    "    try:\n",
    "        bus.send(msg)\n",
    "        print(\"Message sent on {}\".format(bus.channel_info))\n",
    "    except can.CanError:\n",
    "        print(\"Message NOT sent\")\n",
    "\n",
    "if __name__ == \"__main__\":\n",
    "    send_one()"
   ]
  },
  {
   "cell_type": "code",
   "execution_count": null,
   "metadata": {
    "collapsed": true
   },
   "outputs": [],
   "source": []
  },
  {
   "cell_type": "code",
   "execution_count": 21,
   "metadata": {},
   "outputs": [
    {
     "ename": "NameError",
     "evalue": "name 'Can' is not defined",
     "output_type": "error",
     "traceback": [
      "\u001b[0;31m---------------------------------------------------------------------------\u001b[0m",
      "\u001b[0;31mNameError\u001b[0m                                 Traceback (most recent call last)",
      "\u001b[0;32m<ipython-input-21-6bfec16d5b03>\u001b[0m in \u001b[0;36m<module>\u001b[0;34m()\u001b[0m\n\u001b[1;32m      1\u001b[0m \u001b[0mrs\u001b[0m \u001b[0;34m=\u001b[0m \u001b[0mRS\u001b[0m\u001b[0;34m(\u001b[0m\u001b[0;34m)\u001b[0m\u001b[0;34m\u001b[0m\u001b[0m\n\u001b[0;32m----> 2\u001b[0;31m \u001b[0mcn\u001b[0m \u001b[0;34m=\u001b[0m \u001b[0mCan\u001b[0m\u001b[0;34m(\u001b[0m\u001b[0;34m)\u001b[0m\u001b[0;34m\u001b[0m\u001b[0m\n\u001b[0m\u001b[1;32m      3\u001b[0m \u001b[0;34m\u001b[0m\u001b[0m\n\u001b[1;32m      4\u001b[0m \u001b[0msession\u001b[0m \u001b[0;34m=\u001b[0m \u001b[0mNone\u001b[0m\u001b[0;34m\u001b[0m\u001b[0m\n\u001b[1;32m      5\u001b[0m \u001b[0;32mwith\u001b[0m \u001b[0mserial\u001b[0m\u001b[0;34m.\u001b[0m\u001b[0mSerial\u001b[0m\u001b[0;34m(\u001b[0m\u001b[0mport\u001b[0m\u001b[0;34m=\u001b[0m\u001b[0;34m\"COM3\"\u001b[0m\u001b[0;34m,\u001b[0m \u001b[0mbaudrate\u001b[0m\u001b[0;34m=\u001b[0m\u001b[0;36m115200\u001b[0m\u001b[0;34m,\u001b[0m \u001b[0mbytesize\u001b[0m\u001b[0;34m=\u001b[0m\u001b[0;36m8\u001b[0m\u001b[0;34m)\u001b[0m \u001b[0;32mas\u001b[0m \u001b[0mser\u001b[0m\u001b[0;34m:\u001b[0m \u001b[0;31m#and can open session\u001b[0m\u001b[0;34m\u001b[0m\u001b[0m\n",
      "\u001b[0;31mNameError\u001b[0m: name 'Can' is not defined"
     ]
    }
   ],
   "source": [
    "rs = RS()\n",
    "cn = Can()\n",
    "\n",
    "session = None\n",
    "with serial.Serial(port=\"COM3\", baudrate=115200, bytesize=8) as ser: #and can open session\n",
    "    while True:\n",
    "        command, data = cn.get_massage(session) #can can give us command and data\n",
    "                                      #can session should be given\n",
    "        \n",
    "        rs.send(rs.generate_msg(command, data), ser)\n",
    "        \n",
    "        msg, status = rs.receive(ser)\n",
    "        \n",
    "        if status == \"OK\":\n",
    "            cn.send(msg[3:-1], session)\n",
    "        elif status == \"Error\":\n",
    "            cn.send(msg[2], session, status=\"error\")\n",
    "        else:\n",
    "            cn.send(\"\", session, status=\"crc\")\n",
    "        \n",
    "        \n"
   ]
  }
 ],
 "metadata": {
  "kernelspec": {
   "display_name": "Python 2",
   "language": "python",
   "name": "python2"
  },
  "language_info": {
   "codemirror_mode": {
    "name": "ipython",
    "version": 2
   },
   "file_extension": ".py",
   "mimetype": "text/x-python",
   "name": "python",
   "nbconvert_exporter": "python",
   "pygments_lexer": "ipython2",
   "version": "2.7.12"
  }
 },
 "nbformat": 4,
 "nbformat_minor": 2
}
